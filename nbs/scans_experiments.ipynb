{
 "cells": [
  {
   "cell_type": "code",
   "execution_count": 1,
   "id": "f13b1591-9af8-4dcc-9220-a341bf140a3a",
   "metadata": {},
   "outputs": [
    {
     "name": "stdout",
     "output_type": "stream",
     "text": [
      "The domain '0q91frjc734c-wwwqaext.caterpillar.com' has the IP address: 54.144.172.252\n"
     ]
    }
   ],
   "source": [
    "import socket\n",
    "\n",
    "def check_domain_ip(domain):\n",
    "    try:\n",
    "        ip = socket.gethostbyname(domain)\n",
    "        return True, ip\n",
    "    except socket.gaierror:\n",
    "        return False, None\n",
    "\n",
    "# Usage\n",
    "domain = \"0q91frjc734c-wwwqaext.caterpillar.com\"\n",
    "has_ip, ip_address = check_domain_ip(domain)\n",
    "\n",
    "if has_ip:\n",
    "    print(f\"The domain '{domain}' has the IP address: {ip_address}\")\n",
    "else:\n",
    "    print(f\"The domain '{domain}' does not have a valid IP address\")"
   ]
  },
  {
   "cell_type": "code",
   "execution_count": 1,
   "id": "f66ae549-0594-4b09-a6b3-2fa177c27bb5",
   "metadata": {},
   "outputs": [],
   "source": [
    "domain_ = \"digikala.com\""
   ]
  },
  {
   "cell_type": "code",
   "execution_count": 3,
   "id": "28a6d63f-760c-402b-a680-eb6793f66326",
   "metadata": {},
   "outputs": [],
   "source": [
    "import httpx\n",
    "import asyncio\n",
    "\n",
    "async def check_domain_existence(domain):\n",
    "    http_url = f\"http://{domain}\"\n",
    "    https_url = f\"https://{domain}\"\n",
    "\n",
    "    async with httpx.AsyncClient() as client:\n",
    "        # Check HTTP existence\n",
    "        http_exists = False\n",
    "        try:\n",
    "            http_response = await client.head(http_url)\n",
    "            http_exists = http_response.status_code < 400\n",
    "        except httpx.RequestError:\n",
    "            pass\n",
    "\n",
    "        # Check HTTPS existence\n",
    "        https_exists = False\n",
    "        try:\n",
    "            https_response = await client.head(https_url)\n",
    "            https_exists = https_response.status_code < 400\n",
    "        except httpx.RequestError:\n",
    "            pass\n",
    "\n",
    "    return http_exists, https_exists"
   ]
  },
  {
   "cell_type": "code",
   "execution_count": 7,
   "id": "4d8d55f8-40e2-42ed-97f2-ab6ef951d146",
   "metadata": {},
   "outputs": [],
   "source": [
    "#check_domain_existence(domain_)"
   ]
  },
  {
   "cell_type": "code",
   "execution_count": 4,
   "id": "49697d29-cd0b-41b0-8312-9c330fc5bcc3",
   "metadata": {},
   "outputs": [
    {
     "ename": "RuntimeError",
     "evalue": "This event loop is already running",
     "output_type": "error",
     "traceback": [
      "\u001b[0;31m---------------------------------------------------------------------------\u001b[0m",
      "\u001b[0;31mRuntimeError\u001b[0m                              Traceback (most recent call last)",
      "Cell \u001b[0;32mIn[4], line 12\u001b[0m\n\u001b[1;32m      9\u001b[0m loop \u001b[38;5;241m=\u001b[39m asyncio\u001b[38;5;241m.\u001b[39mget_event_loop()\n\u001b[1;32m     11\u001b[0m \u001b[38;5;66;03m# Run the asynchronous code within the existing event loop\u001b[39;00m\n\u001b[0;32m---> 12\u001b[0m \u001b[43mloop\u001b[49m\u001b[38;5;241;43m.\u001b[39;49m\u001b[43mrun_until_complete\u001b[49m\u001b[43m(\u001b[49m\u001b[43mmain\u001b[49m\u001b[43m(\u001b[49m\u001b[43m)\u001b[49m\u001b[43m)\u001b[49m\n",
      "File \u001b[0;32m~/anaconda3/envs/DE/lib/python3.10/asyncio/base_events.py:625\u001b[0m, in \u001b[0;36mBaseEventLoop.run_until_complete\u001b[0;34m(self, future)\u001b[0m\n\u001b[1;32m    614\u001b[0m \u001b[38;5;250m\u001b[39m\u001b[38;5;124;03m\"\"\"Run until the Future is done.\u001b[39;00m\n\u001b[1;32m    615\u001b[0m \n\u001b[1;32m    616\u001b[0m \u001b[38;5;124;03mIf the argument is a coroutine, it is wrapped in a Task.\u001b[39;00m\n\u001b[0;32m   (...)\u001b[0m\n\u001b[1;32m    622\u001b[0m \u001b[38;5;124;03mReturn the Future's result, or raise its exception.\u001b[39;00m\n\u001b[1;32m    623\u001b[0m \u001b[38;5;124;03m\"\"\"\u001b[39;00m\n\u001b[1;32m    624\u001b[0m \u001b[38;5;28mself\u001b[39m\u001b[38;5;241m.\u001b[39m_check_closed()\n\u001b[0;32m--> 625\u001b[0m \u001b[38;5;28;43mself\u001b[39;49m\u001b[38;5;241;43m.\u001b[39;49m\u001b[43m_check_running\u001b[49m\u001b[43m(\u001b[49m\u001b[43m)\u001b[49m\n\u001b[1;32m    627\u001b[0m new_task \u001b[38;5;241m=\u001b[39m \u001b[38;5;129;01mnot\u001b[39;00m futures\u001b[38;5;241m.\u001b[39misfuture(future)\n\u001b[1;32m    628\u001b[0m future \u001b[38;5;241m=\u001b[39m tasks\u001b[38;5;241m.\u001b[39mensure_future(future, loop\u001b[38;5;241m=\u001b[39m\u001b[38;5;28mself\u001b[39m)\n",
      "File \u001b[0;32m~/anaconda3/envs/DE/lib/python3.10/asyncio/base_events.py:584\u001b[0m, in \u001b[0;36mBaseEventLoop._check_running\u001b[0;34m(self)\u001b[0m\n\u001b[1;32m    582\u001b[0m \u001b[38;5;28;01mdef\u001b[39;00m \u001b[38;5;21m_check_running\u001b[39m(\u001b[38;5;28mself\u001b[39m):\n\u001b[1;32m    583\u001b[0m     \u001b[38;5;28;01mif\u001b[39;00m \u001b[38;5;28mself\u001b[39m\u001b[38;5;241m.\u001b[39mis_running():\n\u001b[0;32m--> 584\u001b[0m         \u001b[38;5;28;01mraise\u001b[39;00m \u001b[38;5;167;01mRuntimeError\u001b[39;00m(\u001b[38;5;124m'\u001b[39m\u001b[38;5;124mThis event loop is already running\u001b[39m\u001b[38;5;124m'\u001b[39m)\n\u001b[1;32m    585\u001b[0m     \u001b[38;5;28;01mif\u001b[39;00m events\u001b[38;5;241m.\u001b[39m_get_running_loop() \u001b[38;5;129;01mis\u001b[39;00m \u001b[38;5;129;01mnot\u001b[39;00m \u001b[38;5;28;01mNone\u001b[39;00m:\n\u001b[1;32m    586\u001b[0m         \u001b[38;5;28;01mraise\u001b[39;00m \u001b[38;5;167;01mRuntimeError\u001b[39;00m(\n\u001b[1;32m    587\u001b[0m             \u001b[38;5;124m'\u001b[39m\u001b[38;5;124mCannot run the event loop while another loop is running\u001b[39m\u001b[38;5;124m'\u001b[39m)\n",
      "\u001b[0;31mRuntimeError\u001b[0m: This event loop is already running"
     ]
    }
   ],
   "source": [
    "import asyncio\n",
    "\n",
    "async def main():\n",
    "    http_exists, https_exists = await check_domain_existence(domain_)\n",
    "    print(f\"HTTP Exists: {http_exists}\")\n",
    "    print(f\"HTTPS Exists: {https_exists}\")\n",
    "\n",
    "# Get a reference to the current event loop\n",
    "loop = asyncio.get_event_loop()\n",
    "\n",
    "# Run the asynchronous code within the existing event loop\n",
    "loop.run_until_complete(main())"
   ]
  },
  {
   "cell_type": "code",
   "execution_count": null,
   "id": "bc5a4865-b3b9-4e0e-b72d-ed78f717508a",
   "metadata": {},
   "outputs": [],
   "source": []
  }
 ],
 "metadata": {
  "kernelspec": {
   "display_name": "Python 3 (ipykernel)",
   "language": "python",
   "name": "python3"
  },
  "language_info": {
   "codemirror_mode": {
    "name": "ipython",
    "version": 3
   },
   "file_extension": ".py",
   "mimetype": "text/x-python",
   "name": "python",
   "nbconvert_exporter": "python",
   "pygments_lexer": "ipython3",
   "version": "3.10.12"
  }
 },
 "nbformat": 4,
 "nbformat_minor": 5
}
