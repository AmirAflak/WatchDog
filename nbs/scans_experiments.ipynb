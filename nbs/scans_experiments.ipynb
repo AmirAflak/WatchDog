{
 "cells": [
  {
   "cell_type": "code",
   "execution_count": 2,
   "id": "85a6eb48-1d8e-4d69-884d-d0eabb7640aa",
   "metadata": {},
   "outputs": [],
   "source": [
    "import requests\n",
    "import socket"
   ]
  },
  {
   "cell_type": "code",
   "execution_count": 4,
   "id": "f13b1591-9af8-4dcc-9220-a341bf140a3a",
   "metadata": {},
   "outputs": [
    {
     "name": "stdout",
     "output_type": "stream",
     "text": [
      "The domain 'divar.ir' has the IP address: 185.166.104.4\n"
     ]
    }
   ],
   "source": [
    "import socket\n",
    "import requests\n",
    "\n",
    "def check_domain_ip(domain):\n",
    "    try:\n",
    "        ip = socket.gethostbyname(domain)\n",
    "        return True, ip\n",
    "    except socket.gaierror:\n",
    "        return False, None\n",
    "\n",
    "# Usage\n",
    "domain = \"divar.ir\"\n",
    "has_ip, ip_address = check_domain_ip(domain)\n",
    "\n",
    "if has_ip:\n",
    "    print(f\"The domain '{domain}' has the IP address: {ip_address}\")\n",
    "else:\n",
    "    print(f\"The domain '{domain}' does not have a valid IP address\")"
   ]
  },
  {
   "cell_type": "code",
   "execution_count": 8,
   "id": "28a6d63f-760c-402b-a680-eb6793f66326",
   "metadata": {},
   "outputs": [
    {
     "name": "stdout",
     "output_type": "stream",
     "text": [
      "example.com supports HTTP\n",
      "example.com supports HTTPS\n"
     ]
    }
   ],
   "source": [
    "def check_protocol(domain):\n",
    "    url_with_http = f\"http://{domain}\"\n",
    "    url_with_https = f\"https://{domain}\"\n",
    "    \n",
    "    try:\n",
    "        response = requests.head(url_with_http, timeout=5)\n",
    "        if response.status_code == 200:\n",
    "            print(f\"{domain} supports HTTP\")\n",
    "        else:\n",
    "            print(f\"{domain} does not support HTTP\")\n",
    "            \n",
    "    except (requests.exceptions.RequestException, requests.exceptions.Timeout):\n",
    "        print(f\"{domain} does not support HTTP\")\n",
    "\n",
    "    try:\n",
    "        response = requests.head(url_with_https, timeout=5)\n",
    "        if response.status_code == 200:\n",
    "            print(f\"{domain} supports HTTPS\")\n",
    "        else:\n",
    "            print(f\"{domain} does not support HTTPS\")\n",
    "            \n",
    "    except (requests.exceptions.RequestException, requests.exceptions.Timeout):\n",
    "        print(f\"{domain} does not support HTTPS\")\n",
    "\n",
    "# Example usage\n",
    "domain = \"example.com\"\n",
    "check_protocol(domain)"
   ]
  },
  {
   "cell_type": "code",
   "execution_count": 3,
   "id": "4d8d55f8-40e2-42ed-97f2-ab6ef951d146",
   "metadata": {},
   "outputs": [],
   "source": [
    "#check_domain_existence(domain_)"
   ]
  },
  {
   "cell_type": "code",
   "execution_count": null,
   "id": "49697d29-cd0b-41b0-8312-9c330fc5bcc3",
   "metadata": {},
   "outputs": [],
   "source": [
    "import asyncio\n",
    "\n",
    "async def main():\n",
    "    http_exists, https_exists = await check_domain_existence(domain_)\n",
    "    print(f\"HTTP Exists: {http_exists}\")\n",
    "    print(f\"HTTPS Exists: {https_exists}\")\n",
    "\n",
    "# Get a reference to the current event loop\n",
    "loop = asyncio.get_event_loop()\n",
    "\n",
    "# Run the asynchronous code within the existing event loop\n",
    "loop.run_until_complete(main())"
   ]
  },
  {
   "cell_type": "code",
   "execution_count": null,
   "id": "bc5a4865-b3b9-4e0e-b72d-ed78f717508a",
   "metadata": {},
   "outputs": [],
   "source": [
    "import ssl\n",
    "import socket\n",
    " \n",
    "def verify_ssl_certificate(hostname):\n",
    "    context = ssl.create_default_context()\n",
    " \n",
    "    with socket.create_connection((hostname, 443)) as sock:\n",
    "        with context.wrap_socket(sock, server_hostname=hostname) as ssock:\n",
    "            ssock.do_handshake()\n",
    "            cert = ssock.getpeercert()\n",
    "            print(\"Certificate is valid.\")\n",
    "            \n",
    "verify_ssl_certificate(\"divar.ir\")"
   ]
  },
  {
   "cell_type": "code",
   "execution_count": 12,
   "id": "40392d43-7505-4918-af7f-699a952b73f9",
   "metadata": {},
   "outputs": [
    {
     "name": "stdout",
     "output_type": "stream",
     "text": [
      "quera.ir does not support HTTP\n",
      "quera.ir does not support HTTPS\n"
     ]
    }
   ],
   "source": [
    "import socket\n",
    "\n",
    "def verify_protocol(domain):\n",
    "    http_port = 80\n",
    "    https_port = 443\n",
    "    \n",
    "    try:\n",
    "        # Verify HTTP\n",
    "        http_socket = socket.create_connection((domain, http_port), timeout=5)\n",
    "        http_socket.close()\n",
    "        print(f\"{domain} supports HTTP\")\n",
    "    except (socket.timeout, ConnectionRefusedError):\n",
    "        print(f\"{domain} does not support HTTP\")\n",
    "\n",
    "    try:\n",
    "        # Verify HTTPS\n",
    "        https_socket = socket.create_connection((domain, https_port), timeout=5)\n",
    "        https_socket.close()\n",
    "        print(f\"{domain} supports HTTPS\")\n",
    "    except (socket.timeout, ConnectionRefusedError):\n",
    "        print(f\"{domain} does not support HTTPS\")\n",
    "\n",
    "# Example usage\n",
    "domain = \"quera.ir\"\n",
    "verify_protocol(domain)"
   ]
  },
  {
   "cell_type": "code",
   "execution_count": null,
   "id": "affbc1f2-c75d-460b-9970-f13df777352c",
   "metadata": {},
   "outputs": [],
   "source": []
  }
 ],
 "metadata": {
  "kernelspec": {
   "display_name": "Python 3 (ipykernel)",
   "language": "python",
   "name": "python3"
  },
  "language_info": {
   "codemirror_mode": {
    "name": "ipython",
    "version": 3
   },
   "file_extension": ".py",
   "mimetype": "text/x-python",
   "name": "python",
   "nbconvert_exporter": "python",
   "pygments_lexer": "ipython3",
   "version": "3.10.12"
  }
 },
 "nbformat": 4,
 "nbformat_minor": 5
}
