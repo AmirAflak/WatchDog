{
 "cells": [
  {
   "cell_type": "code",
   "execution_count": 2,
   "id": "85a6eb48-1d8e-4d69-884d-d0eabb7640aa",
   "metadata": {},
   "outputs": [],
   "source": [
    "import requests\n",
    "import socket"
   ]
  },
  {
   "cell_type": "code",
   "execution_count": 4,
   "id": "f13b1591-9af8-4dcc-9220-a341bf140a3a",
   "metadata": {},
   "outputs": [
    {
     "name": "stdout",
     "output_type": "stream",
     "text": [
      "The domain 'divar.ir' has the IP address: 185.166.104.4\n"
     ]
    }
   ],
   "source": [
    "import socket\n",
    "import requests\n",
    "\n",
    "def check_domain_ip(domain):\n",
    "    try:\n",
    "        ip = socket.gethostbyname(domain)\n",
    "        return True, ip\n",
    "    except socket.gaierror:\n",
    "        return False, None\n",
    "\n",
    "# Usage\n",
    "domain = \"divar.ir\"\n",
    "has_ip, ip_address = check_domain_ip(domain)\n",
    "\n",
    "if has_ip:\n",
    "    print(f\"The domain '{domain}' has the IP address: {ip_address}\")\n",
    "else:\n",
    "    print(f\"The domain '{domain}' does not have a valid IP address\")"
   ]
  },
  {
   "cell_type": "code",
   "execution_count": 8,
   "id": "28a6d63f-760c-402b-a680-eb6793f66326",
   "metadata": {},
   "outputs": [
    {
     "name": "stdout",
     "output_type": "stream",
     "text": [
      "example.com supports HTTP\n",
      "example.com supports HTTPS\n"
     ]
    }
   ],
   "source": [
    "def check_protocol(domain):\n",
    "    url_with_http = f\"http://{domain}\"\n",
    "    url_with_https = f\"https://{domain}\"\n",
    "    \n",
    "    try:\n",
    "        response = requests.head(url_with_http, timeout=5)\n",
    "        if response.status_code == 200:\n",
    "            print(f\"{domain} supports HTTP\")\n",
    "        else:\n",
    "            print(f\"{domain} does not support HTTP\")\n",
    "            \n",
    "    except (requests.exceptions.RequestException, requests.exceptions.Timeout):\n",
    "        print(f\"{domain} does not support HTTP\")\n",
    "\n",
    "    try:\n",
    "        response = requests.head(url_with_https, timeout=5)\n",
    "        if response.status_code == 200:\n",
    "            print(f\"{domain} supports HTTPS\")\n",
    "        else:\n",
    "            print(f\"{domain} does not support HTTPS\")\n",
    "            \n",
    "    except (requests.exceptions.RequestException, requests.exceptions.Timeout):\n",
    "        print(f\"{domain} does not support HTTPS\")\n",
    "\n",
    "# Example usage\n",
    "domain = \"example.com\"\n",
    "check_protocol(domain)"
   ]
  },
  {
   "cell_type": "code",
   "execution_count": 3,
   "id": "4d8d55f8-40e2-42ed-97f2-ab6ef951d146",
   "metadata": {},
   "outputs": [],
   "source": [
    "#check_domain_existence(domain_)"
   ]
  },
  {
   "cell_type": "code",
   "execution_count": 4,
   "id": "49697d29-cd0b-41b0-8312-9c330fc5bcc3",
   "metadata": {},
   "outputs": [
    {
     "ename": "RuntimeError",
     "evalue": "This event loop is already running",
     "output_type": "error",
     "traceback": [
      "\u001b[0;31m---------------------------------------------------------------------------\u001b[0m",
      "\u001b[0;31mRuntimeError\u001b[0m                              Traceback (most recent call last)",
      "Cell \u001b[0;32mIn[4], line 12\u001b[0m\n\u001b[1;32m      9\u001b[0m loop \u001b[38;5;241m=\u001b[39m asyncio\u001b[38;5;241m.\u001b[39mget_event_loop()\n\u001b[1;32m     11\u001b[0m \u001b[38;5;66;03m# Run the asynchronous code within the existing event loop\u001b[39;00m\n\u001b[0;32m---> 12\u001b[0m \u001b[43mloop\u001b[49m\u001b[38;5;241;43m.\u001b[39;49m\u001b[43mrun_until_complete\u001b[49m\u001b[43m(\u001b[49m\u001b[43mmain\u001b[49m\u001b[43m(\u001b[49m\u001b[43m)\u001b[49m\u001b[43m)\u001b[49m\n",
      "File \u001b[0;32m~/anaconda3/envs/DE/lib/python3.10/asyncio/base_events.py:625\u001b[0m, in \u001b[0;36mBaseEventLoop.run_until_complete\u001b[0;34m(self, future)\u001b[0m\n\u001b[1;32m    614\u001b[0m \u001b[38;5;250m\u001b[39m\u001b[38;5;124;03m\"\"\"Run until the Future is done.\u001b[39;00m\n\u001b[1;32m    615\u001b[0m \n\u001b[1;32m    616\u001b[0m \u001b[38;5;124;03mIf the argument is a coroutine, it is wrapped in a Task.\u001b[39;00m\n\u001b[0;32m   (...)\u001b[0m\n\u001b[1;32m    622\u001b[0m \u001b[38;5;124;03mReturn the Future's result, or raise its exception.\u001b[39;00m\n\u001b[1;32m    623\u001b[0m \u001b[38;5;124;03m\"\"\"\u001b[39;00m\n\u001b[1;32m    624\u001b[0m \u001b[38;5;28mself\u001b[39m\u001b[38;5;241m.\u001b[39m_check_closed()\n\u001b[0;32m--> 625\u001b[0m \u001b[38;5;28;43mself\u001b[39;49m\u001b[38;5;241;43m.\u001b[39;49m\u001b[43m_check_running\u001b[49m\u001b[43m(\u001b[49m\u001b[43m)\u001b[49m\n\u001b[1;32m    627\u001b[0m new_task \u001b[38;5;241m=\u001b[39m \u001b[38;5;129;01mnot\u001b[39;00m futures\u001b[38;5;241m.\u001b[39misfuture(future)\n\u001b[1;32m    628\u001b[0m future \u001b[38;5;241m=\u001b[39m tasks\u001b[38;5;241m.\u001b[39mensure_future(future, loop\u001b[38;5;241m=\u001b[39m\u001b[38;5;28mself\u001b[39m)\n",
      "File \u001b[0;32m~/anaconda3/envs/DE/lib/python3.10/asyncio/base_events.py:584\u001b[0m, in \u001b[0;36mBaseEventLoop._check_running\u001b[0;34m(self)\u001b[0m\n\u001b[1;32m    582\u001b[0m \u001b[38;5;28;01mdef\u001b[39;00m \u001b[38;5;21m_check_running\u001b[39m(\u001b[38;5;28mself\u001b[39m):\n\u001b[1;32m    583\u001b[0m     \u001b[38;5;28;01mif\u001b[39;00m \u001b[38;5;28mself\u001b[39m\u001b[38;5;241m.\u001b[39mis_running():\n\u001b[0;32m--> 584\u001b[0m         \u001b[38;5;28;01mraise\u001b[39;00m \u001b[38;5;167;01mRuntimeError\u001b[39;00m(\u001b[38;5;124m'\u001b[39m\u001b[38;5;124mThis event loop is already running\u001b[39m\u001b[38;5;124m'\u001b[39m)\n\u001b[1;32m    585\u001b[0m     \u001b[38;5;28;01mif\u001b[39;00m events\u001b[38;5;241m.\u001b[39m_get_running_loop() \u001b[38;5;129;01mis\u001b[39;00m \u001b[38;5;129;01mnot\u001b[39;00m \u001b[38;5;28;01mNone\u001b[39;00m:\n\u001b[1;32m    586\u001b[0m         \u001b[38;5;28;01mraise\u001b[39;00m \u001b[38;5;167;01mRuntimeError\u001b[39;00m(\n\u001b[1;32m    587\u001b[0m             \u001b[38;5;124m'\u001b[39m\u001b[38;5;124mCannot run the event loop while another loop is running\u001b[39m\u001b[38;5;124m'\u001b[39m)\n",
      "\u001b[0;31mRuntimeError\u001b[0m: This event loop is already running"
     ]
    }
   ],
   "source": [
    "import asyncio\n",
    "\n",
    "async def main():\n",
    "    http_exists, https_exists = await check_domain_existence(domain_)\n",
    "    print(f\"HTTP Exists: {http_exists}\")\n",
    "    print(f\"HTTPS Exists: {https_exists}\")\n",
    "\n",
    "# Get a reference to the current event loop\n",
    "loop = asyncio.get_event_loop()\n",
    "\n",
    "# Run the asynchronous code within the existing event loop\n",
    "loop.run_until_complete(main())"
   ]
  },
  {
   "cell_type": "code",
   "execution_count": null,
   "id": "bc5a4865-b3b9-4e0e-b72d-ed78f717508a",
   "metadata": {},
   "outputs": [],
   "source": [
    "import ssl\n",
    "import socket\n",
    " \n",
    "def verify_ssl_certificate(hostname):\n",
    "    context = ssl.create_default_context()\n",
    " \n",
    "    with socket.create_connection((hostname, 443)) as sock:\n",
    "        with context.wrap_socket(sock, server_hostname=hostname) as ssock:\n",
    "            ssock.do_handshake()\n",
    "            cert = ssock.getpeercert()\n",
    "            print(\"Certificate is valid.\")\n",
    "            \n",
    "verify_ssl_certificate(\"divar.ir\")"
   ]
  },
  {
   "cell_type": "code",
   "execution_count": 12,
   "id": "40392d43-7505-4918-af7f-699a952b73f9",
   "metadata": {},
   "outputs": [
    {
     "name": "stdout",
     "output_type": "stream",
     "text": [
      "quera.ir does not support HTTP\n",
      "quera.ir does not support HTTPS\n"
     ]
    }
   ],
   "source": [
    "import socket\n",
    "\n",
    "def verify_protocol(domain):\n",
    "    http_port = 80\n",
    "    https_port = 443\n",
    "    \n",
    "    try:\n",
    "        # Verify HTTP\n",
    "        http_socket = socket.create_connection((domain, http_port), timeout=5)\n",
    "        http_socket.close()\n",
    "        print(f\"{domain} supports HTTP\")\n",
    "    except (socket.timeout, ConnectionRefusedError):\n",
    "        print(f\"{domain} does not support HTTP\")\n",
    "\n",
    "    try:\n",
    "        # Verify HTTPS\n",
    "        https_socket = socket.create_connection((domain, https_port), timeout=5)\n",
    "        https_socket.close()\n",
    "        print(f\"{domain} supports HTTPS\")\n",
    "    except (socket.timeout, ConnectionRefusedError):\n",
    "        print(f\"{domain} does not support HTTPS\")\n",
    "\n",
    "# Example usage\n",
    "domain = \"quera.ir\"\n",
    "verify_protocol(domain)"
   ]
  },
  {
   "cell_type": "code",
   "execution_count": null,
   "id": "affbc1f2-c75d-460b-9970-f13df777352c",
   "metadata": {},
   "outputs": [],
   "source": []
  }
 ],
 "metadata": {
  "kernelspec": {
   "display_name": "Python 3 (ipykernel)",
   "language": "python",
   "name": "python3"
  },
  "language_info": {
   "codemirror_mode": {
    "name": "ipython",
    "version": 3
   },
   "file_extension": ".py",
   "mimetype": "text/x-python",
   "name": "python",
   "nbconvert_exporter": "python",
   "pygments_lexer": "ipython3",
   "version": "3.10.12"
  }
 },
 "nbformat": 4,
 "nbformat_minor": 5
}
