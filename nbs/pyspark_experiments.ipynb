{
 "cells": [
  {
   "cell_type": "code",
   "execution_count": 8,
   "id": "85b46fcd-bfc8-4ca1-ba06-eaa5b66c9515",
   "metadata": {},
   "outputs": [],
   "source": [
    "import os\n",
    "os.environ['PYSPARK_SUBMIT_ARGS'] = '--packages org.apache.spark:spark-streaming-kafka-0-10_2.12:3.2.0,org.apache.spark:spark-sql-kafka-0-10_2.12:3.2.0 pyspark-shell'"
   ]
  },
  {
   "cell_type": "code",
   "execution_count": 1,
   "id": "6c260917-818d-46cc-82a0-29ef43a44252",
   "metadata": {},
   "outputs": [],
   "source": [
    "from pyspark.sql import SparkSession\n",
    "from pyspark.sql.functions import *\n",
    "from pyspark.sql.types import *\n",
    "from mongodb import MongoDBClient\n",
    "from configs import BOOTSTRAP_SERVERS, KAFKA_TOPIC, MONGO_HOST, MONGO_PORT, MONGO_DB_NAME"
   ]
  },
  {
   "cell_type": "code",
   "execution_count": null,
   "id": "ef778bbc-5000-4432-b55e-9821bfa53fa6",
   "metadata": {},
   "outputs": [],
   "source": [
    "spark = SparkSession.builder \\\n",
    "    .appName(\"KafkaSparkMongoDB\") \\\n",
    "    .config(\"spark.jars.packages\", \"org.apache.spark:spark-sql-kafka-0-10_2.12:3.1.2\") \\\n",
    "    .getOrCreate()"
   ]
  },
  {
   "cell_type": "code",
   "execution_count": 3,
   "id": "2e92f4b6-ce0b-4adb-8b38-378a18301fa3",
   "metadata": {},
   "outputs": [],
   "source": [
    "schema = StructType([\n",
    "    StructField(\"key\", StringType(), True),\n",
    "    StructField(\"value\", StringType(), True),\n",
    "    StructField(\"timestamp\", StringType(), True)\n",
    "])"
   ]
  },
  {
   "cell_type": "code",
   "execution_count": 4,
   "id": "fbacdc9d-8231-4ff7-8410-733fcd3b7c42",
   "metadata": {},
   "outputs": [],
   "source": [
    "client = MongoDBClient(MONGO_HOST, MONGO_PORT, MONGO_DB_NAME, username='admin', password='password')\n"
   ]
  },
  {
   "cell_type": "code",
   "execution_count": 14,
   "id": "d9ddd18b-5681-4a3d-aa5b-b28b3598aa55",
   "metadata": {},
   "outputs": [],
   "source": [
    "df = spark \\\n",
    "    .readStream \\\n",
    "    .format(\"kafka\") \\\n",
    "    .option(\"kafka.bootstrap.servers\", \"localhost:9092\") \\\n",
    "    .option(\"startingOffsets\", \"earliest\") \\\n",
    "    .option(\"subscribe\", \"subs\") \\\n",
    "    .load()"
   ]
  },
  {
   "cell_type": "code",
   "execution_count": 31,
   "id": "400c04b6-ade0-4a31-ac98-d072a7671353",
   "metadata": {},
   "outputs": [],
   "source": [
    "parsed_df = df \\\n",
    "    .select(from_json(col(\"value\").cast(\"string\"), schema).alias(\"data\")) \\\n",
    "    .select(\"data.*\")"
   ]
  },
  {
   "cell_type": "code",
   "execution_count": 34,
   "id": "f28d8a1e-5acb-45f4-9342-3e8b7c10f8fd",
   "metadata": {},
   "outputs": [],
   "source": [
    "show_value = lambda x: print(x)"
   ]
  },
  {
   "cell_type": "code",
   "execution_count": null,
   "id": "579405eb-1990-44cd-9786-1d5b56fbc8b1",
   "metadata": {},
   "outputs": [],
   "source": [
    "processed_df = parsed_df \\\n",
    "    .withColumn(\"processed_value\", show_value(col(\"value\")))"
   ]
  },
  {
   "cell_type": "code",
   "execution_count": null,
   "id": "07e2231d-1708-45d3-97fc-4a36ed6d5a37",
   "metadata": {},
   "outputs": [],
   "source": [
    "parsed_df"
   ]
  },
  {
   "cell_type": "code",
   "execution_count": 43,
   "id": "69b803ef-ac6b-4a81-b509-c462c04c6818",
   "metadata": {},
   "outputs": [],
   "source": [
    "def process_batch(df, epoch_id):\n",
    "    if not df.isEmpty():\n",
    "    # Convert DataFrame to RDD\n",
    "        rdd = df.rdd\n",
    "    if not rdd.isEmpty():\n",
    "    # Process each message in the RDD\n",
    "        for row in rdd.collect():\n",
    "    # Example: assume each Kafka message is a JSON document\n",
    "    # Insert the document into MongoDB\n",
    "            print(row.asDict())\n",
    "    # collection.insert_one(row.asDict())"
   ]
  },
  {
   "cell_type": "code",
   "execution_count": null,
   "id": "1affdc9d-d6e7-4bed-a257-ad57a1e343a0",
   "metadata": {},
   "outputs": [],
   "source": [
    "query = df.writeStream.foreachBatch(process_batch).start()"
   ]
  },
  {
   "cell_type": "code",
   "execution_count": null,
   "id": "e8fbe64b-953a-45a9-bc5d-22157cac86fe",
   "metadata": {},
   "outputs": [],
   "source": []
  }
 ],
 "metadata": {
  "kernelspec": {
   "display_name": "Python 3 (ipykernel)",
   "language": "python",
   "name": "python3"
  },
  "language_info": {
   "codemirror_mode": {
    "name": "ipython",
    "version": 3
   },
   "file_extension": ".py",
   "mimetype": "text/x-python",
   "name": "python",
   "nbconvert_exporter": "python",
   "pygments_lexer": "ipython3",
   "version": "3.10.12"
  }
 },
 "nbformat": 4,
 "nbformat_minor": 5
}
